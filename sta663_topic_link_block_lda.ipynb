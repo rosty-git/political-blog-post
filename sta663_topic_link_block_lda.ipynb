{
 "cells": [
  {
   "cell_type": "markdown",
   "metadata": {},
   "source": [
    "# Gibbs Sampling for Topic Link Block LDA\n",
    "## Derek Owens-Oas\n",
    "## Duke University Statistical Science\n",
    "## STA 663 Final Project"
   ]
  },
  {
   "cell_type": "markdown",
   "metadata": {},
   "source": [
    "##### Import packages and functions:"
   ]
  },
  {
   "cell_type": "code",
   "execution_count": 1,
   "metadata": {
    "collapsed": false
   },
   "outputs": [],
   "source": [
    "# Import packages:\n",
    "import pandas as pd\n",
    "import io\n",
    "import requests\n",
    "import numpy as np\n",
    "import scipy as sp\n",
    "from scipy.misc import logsumexp\n",
    "import time\n",
    "import numpy.random as npr\n",
    "import matplotlib.pyplot as plt\n",
    "from numba import jit, vectorize, float64, int64\n",
    "import itertools\n",
    "import multiprocessing as mp\n",
    "import pickle\n",
    "from functools import partial\n",
    "%matplotlib inline\n",
    "%load_ext Cython"
   ]
  },
  {
   "cell_type": "markdown",
   "metadata": {},
   "source": [
    "##### Read in data from dropbox URL, filter out posts not falling in the specified (zero-indexed) days of the year, display a few rows, and organize the data into dates, domains, list of link lists, and list of word lists:"
   ]
  },
  {
   "cell_type": "code",
   "execution_count": 2,
   "metadata": {
    "collapsed": false
   },
   "outputs": [],
   "source": [
    "# Read blog posts csv in from web url as pandas data frame:\n",
    "url=\"https://www.dropbox.com/s/20egdva07p7p4wf/textNetwork.csv?dl=1\"\n",
    "s=requests.get(url).content\n",
    "blog_posts = pd.read_csv(io.StringIO(s.decode('latin-1')))\n",
    "blog_posts = blog_posts.drop('Unnamed: 0', 1)\n",
    "blog_posts = blog_posts.loc[blog_posts['dates'].isin(sorted(set(blog_posts['dates']))[0:7])]"
   ]
  },
  {
   "cell_type": "code",
   "execution_count": 3,
   "metadata": {
    "collapsed": false
   },
   "outputs": [
    {
     "data": {
      "text/html": [
       "<div>\n",
       "<table border=\"1\" class=\"dataframe\">\n",
       "  <thead>\n",
       "    <tr style=\"text-align: right;\">\n",
       "      <th></th>\n",
       "      <th>dates</th>\n",
       "      <th>domains</th>\n",
       "      <th>links</th>\n",
       "      <th>words</th>\n",
       "    </tr>\n",
       "  </thead>\n",
       "  <tbody>\n",
       "    <tr>\n",
       "      <th>0</th>\n",
       "      <td>01/01/2012</td>\n",
       "      <td>aconservativeteacher.blogspot.com</td>\n",
       "      <td>blogs.the-american-interest.com directorblue.b...</td>\n",
       "      <td>public school teacher day battle believe life ...</td>\n",
       "    </tr>\n",
       "    <tr>\n",
       "      <th>1</th>\n",
       "      <td>01/01/2012</td>\n",
       "      <td>althouse.blogspot.com</td>\n",
       "      <td>balkin.blogspot.com legalinsurrection.com reas...</td>\n",
       "      <td>boy green bay today greatest really game maybe...</td>\n",
       "    </tr>\n",
       "    <tr>\n",
       "      <th>2</th>\n",
       "      <td>01/01/2012</td>\n",
       "      <td>althouse.blogspot.com</td>\n",
       "      <td>balkin.blogspot.com legalinsurrection.com reas...</td>\n",
       "      <td>girl girl good said shows bad way says say sai...</td>\n",
       "    </tr>\n",
       "    <tr>\n",
       "      <th>3</th>\n",
       "      <td>01/01/2012</td>\n",
       "      <td>althouse.blogspot.com</td>\n",
       "      <td>balkin.blogspot.com legalinsurrection.com reas...</td>\n",
       "      <td>impossible defeat sitting potus said ron paul ...</td>\n",
       "    </tr>\n",
       "    <tr>\n",
       "      <th>4</th>\n",
       "      <td>01/01/2012</td>\n",
       "      <td>althouse.blogspot.com</td>\n",
       "      <td>balkin.blogspot.com legalinsurrection.com reas...</td>\n",
       "      <td>intended purpose form hostile practical joke c...</td>\n",
       "    </tr>\n",
       "  </tbody>\n",
       "</table>\n",
       "</div>"
      ],
      "text/plain": [
       "        dates                            domains  \\\n",
       "0  01/01/2012  aconservativeteacher.blogspot.com   \n",
       "1  01/01/2012              althouse.blogspot.com   \n",
       "2  01/01/2012              althouse.blogspot.com   \n",
       "3  01/01/2012              althouse.blogspot.com   \n",
       "4  01/01/2012              althouse.blogspot.com   \n",
       "\n",
       "                                               links  \\\n",
       "0  blogs.the-american-interest.com directorblue.b...   \n",
       "1  balkin.blogspot.com legalinsurrection.com reas...   \n",
       "2  balkin.blogspot.com legalinsurrection.com reas...   \n",
       "3  balkin.blogspot.com legalinsurrection.com reas...   \n",
       "4  balkin.blogspot.com legalinsurrection.com reas...   \n",
       "\n",
       "                                               words  \n",
       "0  public school teacher day battle believe life ...  \n",
       "1  boy green bay today greatest really game maybe...  \n",
       "2  girl girl good said shows bad way says say sai...  \n",
       "3  impossible defeat sitting potus said ron paul ...  \n",
       "4  intended purpose form hostile practical joke c...  "
      ]
     },
     "execution_count": 3,
     "metadata": {},
     "output_type": "execute_result"
    }
   ],
   "source": [
    "# Print 5 rows of the data frame:\n",
    "blog_posts.head(5)"
   ]
  },
  {
   "cell_type": "markdown",
   "metadata": {},
   "source": [
    "##### Define functions to sample $b_n$|-, $z_{wn}$|-, $\\phi_k$|-, $\\pi_b$|-, and $\\theta_b$|- from their full posterior conditional distributions and a function to find counts $c_{vk}$, $c_{bl}$, and $c_{bk}$. "
   ]
  },
  {
   "cell_type": "code",
   "execution_count": 4,
   "metadata": {
    "collapsed": true
   },
   "outputs": [],
   "source": [
    "# Create function to initialize N observations into B blocks, assuring that each block occurs homogenously:\n",
    "def init_block_assigns(num_obs, num_blocks):\n",
    "    block_partition = np.array_split(np.arange(num_obs), num_obs//(num_obs//num_blocks))\n",
    "    return np.concatenate([np.repeat(b,len(block_partition[b])) for b in range(num_blocks)]).ravel()"
   ]
  },
  {
   "cell_type": "code",
   "execution_count": 5,
   "metadata": {
    "collapsed": true
   },
   "outputs": [],
   "source": [
    "# Create b_given_y_z_pi_theta function:\n",
    "def b_given_y_z_pi_theta(y, z, pi, theta, num_obs, num_blocks):\n",
    "    b_n = np.zeros(num_obs, dtype=np.int64)\n",
    "    for n_ind in range(num_obs):\n",
    "        log_q_bn = -np.log(num_blocks) + np.log(pi[:, list(y[n_ind])]).sum(axis=1) + np.log(theta[:, z[n_ind]]).sum(axis=1)\n",
    "        exp_log_p_bn = np.exp(log_q_bn - logsumexp(log_q_bn))\n",
    "        exp_log_p_bn /= exp_log_p_bn.sum().astype(float)\n",
    "        b_n[n_ind] = np.random.multinomial(1,exp_log_p_bn).argmax()\n",
    "    return b_n"
   ]
  },
  {
   "cell_type": "code",
   "execution_count": 6,
   "metadata": {
    "collapsed": true
   },
   "outputs": [],
   "source": [
    "# Create b_given_y_z_pi_theta_fast function:\n",
    "def b_given_y_z_pi_theta_fast(b, y, z, pi, theta, num_obs, num_blocks):\n",
    "    for n_ind in range(num_obs):\n",
    "        #start_log_calc = time.time()\n",
    "        log_q_bn = -np.log(num_blocks) + np.log(pi[:, list(y[n_ind])]).sum(axis=1) + np.log(theta[:, z[n_ind]]).sum(axis=1)\n",
    "        #print(\"log calc time\")\n",
    "        #print(time.time()-start_log_calc)\n",
    "        #start_exp_logsumexp = time.time()\n",
    "        exp_log_p_bn = np.exp(log_q_bn - logsumexp(log_q_bn))\n",
    "        #print(\"exp logsumexp time\")\n",
    "        #print(time.time()-start_exp_logsumexp)\n",
    "        #start_renorm = time.time()\n",
    "        exp_log_p_bn /= exp_log_p_bn.sum().astype(float)\n",
    "        #print(\"renorm time\")\n",
    "        #print(time.time()-start_renorm)\n",
    "        #start_samp_b_mult = time.time()\n",
    "        b[n_ind] = np.random.multinomial(1,exp_log_p_bn).argmax()\n",
    "        #print(\"samp b mult time\")\n",
    "        #print(time.time()-start_samp_b_mult)  \n",
    "    return b"
   ]
  },
  {
   "cell_type": "code",
   "execution_count": 7,
   "metadata": {
    "collapsed": true
   },
   "outputs": [],
   "source": [
    "# Define functions to parallelize multinomial sampling across cores:\n",
    "\n",
    "# Draws multiple samples from a multinomial with different probability vector for each sample: \n",
    "def sample_mult_prob_matrix(prob_wk_subset):\n",
    "    word_topic_assign = np.zeros(prob_wk_subset.shape[0], dtype=np.int64)\n",
    "    for w in range(prob_wk_subset.shape[0]):\n",
    "        word_topic_assign[w] = np.random.multinomial(1, prob_wk_subset[w,:]).argmax()\n",
    "    return word_topic_assign\n",
    "   \n",
    "# Create function to sample a single categorical assignment:\n",
    "def sample_single_mult_prob(prob_k):\n",
    "    return np.random.multinomial(1, prob_k).argmax()    \n",
    "    \n",
    "# Takes matrix of probabilities and partitions it across cores, performing multinomial sampling \n",
    "# on each core and recombining the output into a vector of assignments:\n",
    "def parallelize_multinomial(word_topic_assigns, prob_wk, num_cores):\n",
    "    #start_pool = time.time()\n",
    "    #pool = mp.Pool(num_cores)\n",
    "    #print(\"pool time:\")\n",
    "    #print(time.time()-start_pool)\n",
    "    W = prob_wk.shape[0]\n",
    "    indices = np.arange(W)\n",
    "    #start_partition = time.time()\n",
    "    partition_indices = np.array_split(indices, indices.shape[0]//(indices.shape[0]//num_cores))\n",
    "    #print(\"partition time:\")\n",
    "    #print(time.time()-start_partition)\n",
    "    #result_arrays = pool.map(sample_mult_prob_matrix_cython, (prob_wk[partition_indices[i], :] for i in range(num_cores)))\n",
    "    #start_map_sample = time.time()\n",
    "    #result_arrays = pool.map(sample_mult_prob_matrix, (prob_wk[partition_indices[i], :] for i in range(num_cores)))\n",
    "    #print(\"map sample time:\")\n",
    "    #print(time.time()-start_map_sample)\n",
    "    result_arrays = list(map(sample_mult_prob_matrix, (prob_wk[partition_indices[i], :] for i in range(num_cores))))\n",
    "    #result_arrays = list(map(sample_single_mult_prob, (prob_wk[i, :] for i in range(W)))) # is this faster?\n",
    "    #print(result_arrays)\n",
    "    #word_topic_assigns = np.array(result_arrays, dtype=np.int64) # is this faster?\n",
    "    #start_concat = time.time()\n",
    "    word_topic_assigns = np.concatenate(result_arrays).ravel()\n",
    "    #print(\"concat time:\")\n",
    "    #print(time.time()-start_concat)\n",
    "    return word_topic_assigns\n",
    "\n",
    "# Define function to reconstruct documents after vectorizing them for fast sampling:\n",
    "\n",
    "# Create helper function reconstruct_docs to take vectorized word_topic_assigns\n",
    "# and return documents as numpy array of integer arrays:\n",
    "def reconstruct_docs(cum_doc_lengths, z, topic_assignments, num_obs):\n",
    "        start_word_ind = 0\n",
    "        for n_ind in range(num_obs):\n",
    "            if n_ind > 0: \n",
    "                start_word_ind = cum_doc_lengths[n_ind-1]\n",
    "            end_word_ind = cum_doc_lengths[n_ind]  \n",
    "            z[n_ind] = topic_assignments[start_word_ind:end_word_ind]\n",
    "        return z"
   ]
  },
  {
   "cell_type": "code",
   "execution_count": 8,
   "metadata": {
    "collapsed": true
   },
   "outputs": [],
   "source": [
    "# Create z_given_b_x_phi_theta function:\n",
    "def z_given_b_x_phi_theta(b, x, z, phi, theta, num_obs, num_topics, num_blocks):\n",
    "    for n_ind in range(num_obs):\n",
    "        log_q_wkn = np.log(phi[x[n_ind],:]) + np.log(theta[b[n_ind], :])[None,:]\n",
    "        for w_ind in range(len(x[n_ind])):\n",
    "            exp_log_p_wkn = np.exp(log_q_wkn[w_ind,:] - logsumexp(log_q_wkn[w_ind,:]))\n",
    "            z[n_ind][w_ind] = np.random.multinomial(1,exp_log_p_wkn).argmax()\n",
    "    return z "
   ]
  },
  {
   "cell_type": "code",
   "execution_count": 9,
   "metadata": {
    "collapsed": false
   },
   "outputs": [],
   "source": [
    "# Create z_given_b_x_phi_theta vectorized function:\n",
    "def z_given_b_x_phi_theta_vec(all_words, word_topic_assigns, word_doc_assign, cum_doc_lengths, b_n, z_wn, phi_vk, theta_bk, num_obs, num_topics, num_blocks, num_cores):\n",
    "    \n",
    "    # Compute topic probabilities for each word:\n",
    "    #start_calc_probs = time.time()\n",
    "    prob_wk = np.multiply(phi_vk[all_words,:],theta_bk[b_n[word_doc_assign],:])\n",
    "    prob_wk = prob_wk/prob_wk.sum(axis=1)[:,None]\n",
    "    #print(\"calc probs time:\")\n",
    "    #print(time.time()-start_calc_probs)\n",
    "    \n",
    "    # This is a vectorized cythonized version:\n",
    "    #word_topic_assigns = sample_mult_prob_matrix_cython(prob_wk, word_topic_assigns)\n",
    "    #word_topic_assigns = sample_mult_prob_matrix_gen(prob_wk, word_topic_assigns)\n",
    "    \n",
    "    # This is a fast vectorized version:\n",
    "    #for w in range(len(all_words)):\n",
    "    #    word_topic_assigns[w] = np.random.multinomial(1,prob_wk[w,:]).argmax()\n",
    "    \n",
    "    # this is a (faster?) parallelized, vectorized version:\n",
    "    word_topic_assigns = parallelize_multinomial(word_topic_assigns, prob_wk, num_cores)\n",
    "    \n",
    "    # Reconstruct documents into numpy array of arrays:\n",
    "    #start_reconstruct = time.time()\n",
    "    z_wn = reconstruct_docs(cum_doc_lengths, z_wn, word_topic_assigns, num_obs)\n",
    "    #print(\"reconstruct time:\")\n",
    "    #print(time.time()-start_reconstruct)\n",
    "    \n",
    "    return z_wn"
   ]
  },
  {
   "cell_type": "code",
   "execution_count": 10,
   "metadata": {
    "collapsed": true
   },
   "outputs": [],
   "source": [
    "# Create find_counts function to take word topic assignments as array of integer arrays\n",
    "# and return sufficient statistics (counts c_vk, c_bl, and c_bk) for all three dirichlet updates:\n",
    "def find_counts(b_n, x_wn, y_ln, z_wn, num_obs, num_topics, num_blocks, num_linked_domains, vocab_size):\n",
    "    c_vk = np.zeros((vocab_size, num_topics))\n",
    "    c_bl = np.zeros((num_blocks, num_linked_domains))\n",
    "    c_bk = np.zeros((num_blocks, num_topics))\n",
    "    for n in range(num_obs):\n",
    "        for link_ind in y_ln[n]:\n",
    "            c_bl[b_n[n], link_ind] += 1\n",
    "        for word_ind in range(len(x_wn[n])):\n",
    "            c_vk[x_wn[n][word_ind], z_wn[n][word_ind]] += 1\n",
    "            c_bk[b_n[n], z_wn[n][word_ind]] += 1\n",
    "    return c_vk, c_bl, c_bk"
   ]
  },
  {
   "cell_type": "code",
   "execution_count": 11,
   "metadata": {
    "collapsed": false
   },
   "outputs": [],
   "source": [
    "# Create function to sample phi from its posterior:\n",
    "def phi_given_c_x_z(c_vk, x, z, phi_vk, beta, vocab_size, num_topics):\n",
    "    for k in range(num_topics):\n",
    "        phi_vk[:,k] = np.random.dirichlet(np.repeat(beta, vocab_size) + c_vk[:,k], size = 1)\n",
    "    return phi_vk"
   ]
  },
  {
   "cell_type": "code",
   "execution_count": 12,
   "metadata": {
    "collapsed": true
   },
   "outputs": [],
   "source": [
    "# Create function to sample pi from its posterior:\n",
    "def pi_given_b_c_y(b, c_bl, y, pi_bl, gamma, num_blocks, num_linked_domains):\n",
    "    for b in range(num_blocks):\n",
    "        pi_bl[b,:] = np.random.dirichlet(np.repeat(gamma, num_linked_domains) + c_bl[b,:], size = 1)\n",
    "    return pi_bl"
   ]
  },
  {
   "cell_type": "code",
   "execution_count": 13,
   "metadata": {
    "collapsed": true
   },
   "outputs": [],
   "source": [
    "# Create function to sample theta from its posterior:\n",
    "def theta_given_b_c_z(b, c_bk, z, theta_bk, alpha, num_blocks, num_topics):\n",
    "    for b in range(num_blocks):\n",
    "        theta_bk[b,:] = np.random.dirichlet(np.repeat(alpha, num_topics) + c_bk[b,:], size = 1)\n",
    "    return theta_bk"
   ]
  },
  {
   "cell_type": "markdown",
   "metadata": {},
   "source": [
    "##### Create function to perform Gibbs sampling from the Topic Link Block LDA model. It takes as inputs the list of document word lists, list of document link lists, number of blocks, topics, burns, and samples, and the hyperparameters alpha, beta, and gamma. It provides as outputs the post burn posterior samples of all of the model parameters:"
   ]
  },
  {
   "cell_type": "code",
   "execution_count": 14,
   "metadata": {
    "collapsed": false
   },
   "outputs": [],
   "source": [
    "# Create topic link block LDA Gibbs sampling function:\n",
    "def TLB_LDA_Gibbs(blog_posts, num_blocks, num_topics, alpha, beta, gamma, num_burn, num_samps, num_cores):\n",
    "    \n",
    "    # Print initializing and start timing:\n",
    "    start_init = time.time()\n",
    "    print(\"Initializing...\")\n",
    "    \n",
    "    # Setup data as dates (vector of strings), domains (vector of strings), \n",
    "    # links (list of vectors of strings), and words (list of vectors of strings):\n",
    "    dates = np.array(blog_posts['dates'])\n",
    "    domains = np.array(blog_posts['domains'])\n",
    "    docs_links = np.array([np.array(str.split(str(string_of_links), ' ')) for string_of_links in blog_posts['links']])\n",
    "    docs_words = np.array([np.array(str.split(str(string_of_words), ' ')) for string_of_words in blog_posts['words']])\n",
    "\n",
    "    # Collect vocabulary of words and set of linked domains:\n",
    "    vocab = dict(zip(set([word for doc in docs_words for word in doc]),np.arange(len(set([word for doc in docs_words for word in doc])))))\n",
    "    linked_domains = dict(zip(set([link for doc in docs_links for link in doc if link != 'nan']),np.arange(len(set([link for doc in docs_links for link in doc if link != 'nan'])))))\n",
    "\n",
    "    # Note number of observations, size of vocabulary, number of linked domains:\n",
    "    num_obs = len(docs_words)\n",
    "    vocab_size = len(vocab)\n",
    "    num_linked_domains = len(linked_domains)\n",
    "\n",
    "    # Change docs_words and docs_links to numeric X and Y and calculate helper quantities for vectorizing:\n",
    "    x_wn = np.array(list(map(lambda mykeys: np.array([vocab[x] for x in mykeys]), docs_words)))\n",
    "    y_ln = np.array(list(map(lambda mykeys: np.array([linked_domains[y] for y in mykeys if y != 'nan']), docs_links)))\n",
    "    all_words = np.array([word for doc in x_wn for word in doc])\n",
    "    word_doc_assigns = np.array([word for doc in [np.repeat(i, len(docs_words[i])) for i in range(len(docs_words))] for word in doc])\n",
    "    word_topic_assigns = np.array([0 for doc in x_wn for word in doc])\n",
    "    cum_doc_lengths = np.cumsum(list(map(len,x_wn)))\n",
    "    total_num_words = len([word for doc in x_wn for word in doc])\n",
    "    total_num_links = len([link for doc in y_ln for link in doc])\n",
    "\n",
    "    # Initialize arrays of all zeros to store posterior samples:\n",
    "    b_ns = np.zeros((num_obs, (num_samps - num_burn))) # matrix of block assignments for each observation in each iteration\n",
    "    z_wn_last = np.array([np.zeros(len(n)) for n in x_wn]) # a list of 1d arrays to indicate the currect topic assignment for each word of each observation\n",
    "    phi_vks = np.zeros((vocab_size, num_topics, (num_samps - num_burn))) # array for probs for each word in each topic on each iteration\n",
    "    pi_bls = np.zeros((num_blocks, num_linked_domains, (num_samps - num_burn))) # array for probs for each link in each block on each iteration\n",
    "    theta_bks = np.zeros((num_blocks, num_topics, (num_samps - num_burn))) # array for probs for each topic in each block on each iteration    \n",
    "\n",
    "    # Randomly simulate initial values from flat priors and flat (augmented) likelihoods:\n",
    "    #b_n = np.random.choice(np.arange(num_blocks), size = num_obs, p = np.repeat(1.0/num_blocks, num_blocks))\n",
    "    b_n = init_block_assigns(num_obs, num_blocks) # Currently blocks are initialized so that each occurs homogenously\n",
    "    z_wn = np.array(list(map(lambda doc: np.random.choice(np.arange(num_topics), size = len(doc), p = np.repeat(1.0/num_topics, num_topics)), x_wn)))\n",
    "    phi_vk = np.transpose(np.random.dirichlet(np.repeat(beta,vocab_size), size = num_topics))\n",
    "    pi_bl = np.random.dirichlet(np.repeat(gamma,num_linked_domains), size = num_blocks)\n",
    "    theta_bk = np.random.dirichlet(np.repeat(alpha,num_topics), size = num_blocks)\n",
    "    \n",
    "    # Gibbs Sample:\n",
    "    for s in range(num_samps):\n",
    "        \n",
    "        # Start per iteration timing:\n",
    "        start_iter = time.time()\n",
    "\n",
    "        # Sample z:\n",
    "        #start_samp_z = time.time()\n",
    "        #z_wn = z_given_b_x_phi_theta(b_n, x_wn, z_wn, phi_vk, theta_bk, num_obs, num_topics, num_blocks)\n",
    "        #print(\"Large double loop through array of arrays and sample multinomial (sec/iter):\")\n",
    "        #print(\"z no vectorize and double loop numpy array of arrays:\")\n",
    "        #print(time.time() - start_samp_z)\n",
    "        \n",
    "        # Sample z fast:\n",
    "        #start_samp_z_faster = time.time()\n",
    "        z_wn = z_given_b_x_phi_theta_vec(all_words, word_topic_assigns, word_doc_assigns, cum_doc_lengths, b_n, z_wn, phi_vk, theta_bk, num_obs, num_topics, num_blocks, num_cores)\n",
    "        #print(\"Large single loop through concatenated numpy array, sample multinomial, and construct:\")\n",
    "        #print(\"z vectorize and single loop numpy array:\")\n",
    "        #print(time.time()-start_samp_z_faster)\n",
    "\n",
    "        # Compute sufficient statistics:\n",
    "        #start_find_counts = time.time()\n",
    "        c_vk, c_bl, c_bk = find_counts(b_n, x_wn, y_ln, z_wn, num_obs, num_topics, num_blocks, num_linked_domains, vocab_size)\n",
    "        #print(\"Medium double loop through array of arrays and obtain sufficient statistics:\")\n",
    "        #print(\"c double loop:\")\n",
    "        #print(time.time()-start_find_counts)\n",
    "        \n",
    "        # Sample phi:\n",
    "        #start_phi = time.time()\n",
    "        phi_vk = phi_given_c_x_z(c_vk, x_wn, z_wn, phi_vk, beta, vocab_size, num_topics)\n",
    "        #print(\"Small single loop of sampling updated dirichlets:\")\n",
    "        #print(\"phi single loop:\")\n",
    "        #print(time.time()-start_phi)\n",
    "        \n",
    "        # Sample pi:\n",
    "        #start_pi = time.time()\n",
    "        pi_bl = pi_given_b_c_y(b_n, c_bl, y_ln, pi_bl, gamma, num_blocks, num_linked_domains)\n",
    "        #print(\"Medium single loop of sampling updated dirichlets:\")\n",
    "        #print(\"pi single loop:\")\n",
    "        #print(time.time()-start_pi)\n",
    "        \n",
    "        # Sample theta:\n",
    "        #start_theta = time.time()\n",
    "        theta_bk = theta_given_b_c_z(b_n, c_bk, z_wn, theta_bk, alpha, num_blocks, num_topics)\n",
    "        #print(\"Medium single loop of sampling updated dirichlets:\")\n",
    "        #print(\"theta single loop:\")\n",
    "        #print(time.time()-start_theta)\n",
    "        \n",
    "        # Sample b:\n",
    "        #start_b = time.time()\n",
    "        b_n = b_given_y_z_pi_theta_fast(b_n, y_ln, z_wn, pi_bl, theta_bk, num_obs, num_blocks)\n",
    "        #print(\"b single loop:\")\n",
    "        #print(\"b single loop\")\n",
    "        #print(time.time()-start_b)\n",
    "        \n",
    "        # Sample b fast:\n",
    "        #start_b = time.time()\n",
    "        #b_n = b_given_y_z_pi_theta_fast(b_n, y_ln, z_wn, pi_bl, theta_bk, num_obs, num_blocks)\n",
    "        #print(\"b single loop:\")\n",
    "        #print(\"b single loop\")\n",
    "        #print(time.time()-start_b)\n",
    "        \n",
    "        # Store samples:\n",
    "        if s >= num_burn:\n",
    "            b_ns[:,(s-num_burn)] = b_n\n",
    "            z_wn_last = z_wn\n",
    "            phi_vks[:,:,(s-num_burn)] = phi_vk\n",
    "            pi_bls[:,:,(s-num_burn)] = pi_bl\n",
    "            theta_bks[:,:,(s-num_burn)] = theta_bk\n",
    "        \n",
    "        # Print time ellapsed and expected time remaining every 100 samples:\n",
    "        end_iter = time.time()\n",
    "        if s % 100 == 0:\n",
    "            print(\"Total Time Ellapsed: \" + str(end_iter - start_init))\n",
    "            print(\"Expected Time Remaining: \" + str((num_samps - (s+1)) * (end_iter - start_iter)))\n",
    "  \n",
    "    # Save posterior samples in a list of outputs:\n",
    "    post_param_samps = [b_ns, z_wn_last, phi_vks, pi_bls, theta_bks]\n",
    "    return post_param_samps"
   ]
  },
  {
   "cell_type": "markdown",
   "metadata": {},
   "source": [
    "##### Input specifications for Gibbs Sampling:"
   ]
  },
  {
   "cell_type": "code",
   "execution_count": 17,
   "metadata": {
    "collapsed": false
   },
   "outputs": [],
   "source": [
    "# Specifications:\n",
    "num_blocks = blog_posts.shape[0]\n",
    "num_topics = 50\n",
    "alpha = .1\n",
    "beta = .01\n",
    "gamma = .1\n",
    "num_burn = 1950\n",
    "num_samps = 2000\n",
    "num_cores = mp.cpu_count()"
   ]
  },
  {
   "cell_type": "markdown",
   "metadata": {},
   "source": [
    "##### Run Gibbs sampling on input data (currently political blog posts, where each post contains a date, domain, set of links to other domains, and sequence of words) with desired specifications:"
   ]
  },
  {
   "cell_type": "code",
   "execution_count": 18,
   "metadata": {
    "collapsed": false
   },
   "outputs": [
    {
     "name": "stdout",
     "output_type": "stream",
     "text": [
      "Initializing...\n",
      "Total Time Ellapsed: 13.76972484588623\n",
      "Expected Time Remaining: 25637.319028139114\n",
      "Total Time Ellapsed: 1266.5377917289734\n",
      "Expected Time Remaining: 23656.059903144836\n",
      "Total Time Ellapsed: 2510.571050643921\n",
      "Expected Time Remaining: 22299.438776493073\n",
      "Total Time Ellapsed: 3753.193449497223\n",
      "Expected Time Remaining: 21107.12801170349\n",
      "Total Time Ellapsed: 4994.25127696991\n",
      "Expected Time Remaining: 20110.647243261337\n",
      "Total Time Ellapsed: 6233.378287553787\n",
      "Expected Time Remaining: 18569.805007457733\n",
      "Total Time Ellapsed: 7472.521212816238\n",
      "Expected Time Remaining: 17253.691810131073\n",
      "Total Time Ellapsed: 8709.395051240921\n",
      "Expected Time Remaining: 16118.416596651077\n",
      "Total Time Ellapsed: 9947.314707279205\n",
      "Expected Time Remaining: 14779.652663469315\n",
      "Total Time Ellapsed: 11185.150571346283\n",
      "Expected Time Remaining: 13662.09897184372\n",
      "Total Time Ellapsed: 12428.790546417236\n",
      "Expected Time Remaining: 12422.653784036636\n",
      "Total Time Ellapsed: 13673.602530241013\n",
      "Expected Time Remaining: 11147.166479349136\n",
      "Total Time Ellapsed: 14919.23452758789\n",
      "Expected Time Remaining: 9961.953093290329\n",
      "Total Time Ellapsed: 16169.439205408096\n",
      "Expected Time Remaining: 8739.529852867126\n",
      "Total Time Ellapsed: 17415.67351746559\n",
      "Expected Time Remaining: 7436.7854862213135\n",
      "Total Time Ellapsed: 18659.291024684906\n",
      "Expected Time Remaining: 6161.307009220123\n",
      "Total Time Ellapsed: 19895.9929895401\n",
      "Expected Time Remaining: 4913.996189832687\n",
      "Total Time Ellapsed: 21131.77757024765\n",
      "Expected Time Remaining: 3691.8119196891785\n",
      "Total Time Ellapsed: 22378.34312224388\n",
      "Expected Time Remaining: 2477.3564801216125\n",
      "Total Time Ellapsed: 23619.25651192665\n",
      "Expected Time Remaining: 1226.3544323444366\n"
     ]
    }
   ],
   "source": [
    "# Run Gibbs sampling for input of doc words and doc links with above specifications:\n",
    "TLB_LDA_Post_Samps = TLB_LDA_Gibbs(\n",
    "    blog_posts,\n",
    "    num_blocks,\n",
    "    num_topics,\n",
    "    alpha,\n",
    "    beta,\n",
    "    gamma,\n",
    "    num_burn,\n",
    "    num_samps,\n",
    "    num_cores)"
   ]
  },
  {
   "cell_type": "markdown",
   "metadata": {},
   "source": [
    "##### Analyze results of Gibbs sampling. Specifically, use posterior samples of topic word distributions to compute and print top words from each topic. "
   ]
  },
  {
   "cell_type": "code",
   "execution_count": 65,
   "metadata": {
    "collapsed": false
   },
   "outputs": [
    {
     "data": {
      "text/html": [
       "<div>\n",
       "<table border=\"1\" class=\"dataframe\">\n",
       "  <thead>\n",
       "    <tr style=\"text-align: right;\">\n",
       "      <th></th>\n",
       "      <th>Education</th>\n",
       "      <th>Court</th>\n",
       "      <th>Energy</th>\n",
       "      <th>Emploment</th>\n",
       "      <th>Marriage</th>\n",
       "      <th>Climate</th>\n",
       "      <th>President</th>\n",
       "    </tr>\n",
       "  </thead>\n",
       "  <tbody>\n",
       "    <tr>\n",
       "      <th>1</th>\n",
       "      <td>school</td>\n",
       "      <td>court</td>\n",
       "      <td>oil</td>\n",
       "      <td>jobs</td>\n",
       "      <td>marriage</td>\n",
       "      <td>climate</td>\n",
       "      <td>obama</td>\n",
       "    </tr>\n",
       "    <tr>\n",
       "      <th>2</th>\n",
       "      <td>students</td>\n",
       "      <td>supreme</td>\n",
       "      <td>energy</td>\n",
       "      <td>job</td>\n",
       "      <td>gay</td>\n",
       "      <td>global</td>\n",
       "      <td>president</td>\n",
       "    </tr>\n",
       "    <tr>\n",
       "      <th>3</th>\n",
       "      <td>education</td>\n",
       "      <td>texas</td>\n",
       "      <td>gas</td>\n",
       "      <td>workers</td>\n",
       "      <td>sex</td>\n",
       "      <td>change</td>\n",
       "      <td>obamas</td>\n",
       "    </tr>\n",
       "    <tr>\n",
       "      <th>4</th>\n",
       "      <td>schools</td>\n",
       "      <td>courts</td>\n",
       "      <td>environmental</td>\n",
       "      <td>unemployment</td>\n",
       "      <td>state</td>\n",
       "      <td>warming</td>\n",
       "      <td>bush</td>\n",
       "    </tr>\n",
       "    <tr>\n",
       "      <th>5</th>\n",
       "      <td>college</td>\n",
       "      <td>state</td>\n",
       "      <td>industry</td>\n",
       "      <td>people</td>\n",
       "      <td>men</td>\n",
       "      <td>extreme</td>\n",
       "      <td>barack</td>\n",
       "    </tr>\n",
       "    <tr>\n",
       "      <th>6</th>\n",
       "      <td>student</td>\n",
       "      <td>case</td>\n",
       "      <td>prices</td>\n",
       "      <td>work</td>\n",
       "      <td>man</td>\n",
       "      <td>countries</td>\n",
       "      <td>administration</td>\n",
       "    </tr>\n",
       "    <tr>\n",
       "      <th>7</th>\n",
       "      <td>class</td>\n",
       "      <td>district</td>\n",
       "      <td>natural</td>\n",
       "      <td>economy</td>\n",
       "      <td>children</td>\n",
       "      <td>winter</td>\n",
       "      <td>house</td>\n",
       "    </tr>\n",
       "    <tr>\n",
       "      <th>8</th>\n",
       "      <td>teacher</td>\n",
       "      <td>cases</td>\n",
       "      <td>pipeline</td>\n",
       "      <td>labor</td>\n",
       "      <td>sexual</td>\n",
       "      <td>new</td>\n",
       "      <td>country</td>\n",
       "    </tr>\n",
       "    <tr>\n",
       "      <th>9</th>\n",
       "      <td>law</td>\n",
       "      <td>decision</td>\n",
       "      <td>coal</td>\n",
       "      <td>economic</td>\n",
       "      <td>couples</td>\n",
       "      <td>north</td>\n",
       "      <td>clinton</td>\n",
       "    </tr>\n",
       "    <tr>\n",
       "      <th>10</th>\n",
       "      <td>teachers</td>\n",
       "      <td>maps</td>\n",
       "      <td>development</td>\n",
       "      <td>growth</td>\n",
       "      <td>rights</td>\n",
       "      <td>weather</td>\n",
       "      <td>george</td>\n",
       "    </tr>\n",
       "  </tbody>\n",
       "</table>\n",
       "</div>"
      ],
      "text/plain": [
       "    Education     Court         Energy     Emploment  Marriage    Climate  \\\n",
       "1      school     court            oil          jobs  marriage    climate   \n",
       "2    students   supreme         energy           job       gay     global   \n",
       "3   education     texas            gas       workers       sex     change   \n",
       "4     schools    courts  environmental  unemployment     state    warming   \n",
       "5     college     state       industry        people       men    extreme   \n",
       "6     student      case         prices          work       man  countries   \n",
       "7       class  district        natural       economy  children     winter   \n",
       "8     teacher     cases       pipeline         labor    sexual        new   \n",
       "9         law  decision           coal      economic   couples      north   \n",
       "10   teachers      maps    development        growth    rights    weather   \n",
       "\n",
       "         President  \n",
       "1            obama  \n",
       "2        president  \n",
       "3           obamas  \n",
       "4             bush  \n",
       "5           barack  \n",
       "6   administration  \n",
       "7            house  \n",
       "8          country  \n",
       "9          clinton  \n",
       "10          george  "
      ]
     },
     "execution_count": 65,
     "metadata": {},
     "output_type": "execute_result"
    }
   ],
   "source": [
    "# Obtain top words from each topic:\n",
    "# Create function to find a specified number of top words from each topic:\n",
    "def top_n_words(phi_vks, num_top_words, vocab, use_blei_score):\n",
    "    indices_to_words = {y:x for x,y in vocab.items()}\n",
    "    #topic_words = phi_vks.mean(axis=2) # uncomment this line and comment the line below to use posterior mean instead of last Gibbs sample\n",
    "    topic_words = phi_vks[:,:,(phi_vks.shape[2]-1)].copy()\n",
    "    num_topics = topic_words.shape[1]\n",
    "    if use_blei_score:\n",
    "        topic_words = np.array([topic_words[v,:]*(np.log(topic_words[v,:])-np.log(np.exp((1.0/num_topics)*np.sum(np.log(topic_words[v,:]))))) for v in range(phi_vks.shape[0])]).reshape((phi_vks.shape[0],num_topics))\n",
    "    topic_top_words = [None]*num_topics\n",
    "    for k in range(num_topics):\n",
    "        top_words_k = topic_words[:,k]\n",
    "        sorted_top_word_indices_k = sorted(range(len(top_words_k)), key=lambda v: -top_words_k[v])\n",
    "        topic_top_words[k] = [indices_to_words[word_index] for word_index in sorted_top_word_indices_k[0:num_top_words]]\n",
    "    return(topic_top_words)\n",
    "\n",
    "# Find top words from the results of the Gibbs sampling (CURRENTLY USING THE LAST GIBBS SAMPLE):\n",
    "num_top_words = 10\n",
    "docs_words = np.array([np.array(str.split(str(string_of_words), ' ')) for string_of_words in blog_posts['words']])\n",
    "vocab = dict(zip(set([word for doc in docs_words for word in doc]),np.arange(len(set([word for doc in docs_words for word in doc])))))\n",
    "topic_top_words = top_n_words(TLB_LDA_Post_Samps[2], num_top_words, vocab, False)\n",
    "top_words = pd.DataFrame(topic_top_words).T\n",
    "top_words.columns = [\"Topic \" + str(k) for k in range(num_topics)]\n",
    "top_words.index = [np.arange(1,num_top_words+1)]\n",
    "selected_topics = [3,12,15,27,32,34,38]\n",
    "selected_top_words = top_words[selected_topics]\n",
    "selected_top_words.columns = [\"Education\",\"Court\",\"Energy\",\"Emploment\",\"Marriage\",\"Climate\", \"President\"]\n",
    "selected_top_words\n",
    "#top_words[[10,11,12,13,14,15,16,17,18,19]]"
   ]
  },
  {
   "cell_type": "code",
   "execution_count": 66,
   "metadata": {
    "collapsed": false
   },
   "outputs": [
    {
     "name": "stdout",
     "output_type": "stream",
     "text": [
      "\\begin{tabular}{llllllll}\n",
      "\\toprule\n",
      "{} &  Education &     Court &         Energy &     Emploment &  Marriage &    Climate &       President \\\\\n",
      "\\midrule\n",
      "1  &     school &     court &            oil &          jobs &  marriage &    climate &           obama \\\\\n",
      "2  &   students &   supreme &         energy &           job &       gay &     global &       president \\\\\n",
      "3  &  education &     texas &            gas &       workers &       sex &     change &          obamas \\\\\n",
      "4  &    schools &    courts &  environmental &  unemployment &     state &    warming &            bush \\\\\n",
      "5  &    college &     state &       industry &        people &       men &    extreme &          barack \\\\\n",
      "6  &    student &      case &         prices &          work &       man &  countries &  administration \\\\\n",
      "7  &      class &  district &        natural &       economy &  children &     winter &           house \\\\\n",
      "8  &    teacher &     cases &       pipeline &         labor &    sexual &        new &         country \\\\\n",
      "9  &        law &  decision &           coal &      economic &   couples &      north &         clinton \\\\\n",
      "10 &   teachers &      maps &    development &        growth &    rights &    weather &          george \\\\\n",
      "\\bottomrule\n",
      "\\end{tabular}\n",
      "\n"
     ]
    }
   ],
   "source": [
    "# Obtain latex code to embed top words table in paper:\n",
    "print(selected_top_words.to_latex())"
   ]
  },
  {
   "cell_type": "markdown",
   "metadata": {},
   "source": [
    "##### View trace plots of blog post block assignments across Gibbs interations:"
   ]
  },
  {
   "cell_type": "code",
   "execution_count": 21,
   "metadata": {
    "collapsed": false
   },
   "outputs": [
    {
     "data": {
      "image/png": "[encoded data removed]",
      "text/plain": [
       "<matplotlib.figure.Figure at 0x25a9cd22da0>"
      ]
     },
     "metadata": {},
     "output_type": "display_data"
    },
    {
     "data": {
      "image/png": "[encoded data removed]",
      "text/plain": [
       "<matplotlib.figure.Figure at 0x25a9cef15c0>"
      ]
     },
     "metadata": {},
     "output_type": "display_data"
    },
    {
     "data": {
      "image/png": "[encoded data removed]",
      "text/plain": [
       "<matplotlib.figure.Figure at 0x25a9cdd2b00>"
      ]
     },
     "metadata": {},
     "output_type": "display_data"
    },
    {
     "data": {
      "image/png": "[encoded data removed]",
      "text/plain": [
       "<matplotlib.figure.Figure at 0x25a9cdf26a0>"
      ]
     },
     "metadata": {},
     "output_type": "display_data"
    },
    {
     "data": {
      "image/png": "[encoded data removed]",
      "text/plain": [
       "<matplotlib.figure.Figure at 0x25a9d427fd0>"
      ]
     },
     "metadata": {},
     "output_type": "display_data"
    }
   ],
   "source": [
    "for n in range(5):\n",
    "    plt.figure()\n",
    "    plt.plot(TLB_LDA_Post_Samps[0][n,:])"
   ]
  },
  {
   "cell_type": "markdown",
   "metadata": {},
   "source": [
    "##### Export files with posterior samples and top words:"
   ]
  },
  {
   "cell_type": "code",
   "execution_count": null,
   "metadata": {
    "collapsed": true
   },
   "outputs": [],
   "source": [
    "# Save posterior samples and top words to pickle files:\n",
    "pickle.dump(TLB_LDA_Post_Samps, open(\"TLB_LDA_Post_Samps.p\", \"wb\"))\n",
    "pickle.dump(topic_top_words, open(\"topic_top_words.p\", \"wb\"))\n",
    "\n",
    "# Load posterior samples pickle file: \n",
    "#pickle.load(open(\"TLB_LDA_Post_Samps.p\", \"rb\"))"
   ]
  },
  {
   "cell_type": "markdown",
   "metadata": {},
   "source": [
    "##### Unused functions:"
   ]
  },
  {
   "cell_type": "code",
   "execution_count": null,
   "metadata": {
    "collapsed": true
   },
   "outputs": [],
   "source": [
    "# Create z_given_b_x_phi_theta function:\n",
    "def z_given_b_x_phi_theta(b, x, phi, theta, num_obs, num_topics, num_blocks):\n",
    "    z_w_n = np.array([np.zeros(len(n)).astype(np.int64) for n in x])\n",
    "    for n_ind in range(num_obs):\n",
    "        log_q_kwn = np.log(phi[:,x[n_ind]]) + np.log(theta[b[n_ind], :])[:,None]\n",
    "        for w_ind in range(len(x[n_ind])):\n",
    "            exp_log_p_kwn = np.exp(log_q_kwn[:,w_ind] - logsumexp(log_q_kwn[:,w_ind]))\n",
    "            z_w_n[n_ind][w_ind] = np.random.multinomial(1,exp_log_p_kwn).argmax()\n",
    "    return z_w_n"
   ]
  },
  {
   "cell_type": "code",
   "execution_count": null,
   "metadata": {
    "collapsed": true
   },
   "outputs": [],
   "source": [
    "# Write Cython function to help speed up sampling of z|- from multinomial:"
   ]
  },
  {
   "cell_type": "code",
   "execution_count": null,
   "metadata": {
    "collapsed": false
   },
   "outputs": [],
   "source": [
    "# %%cython --annotate\n",
    "\n",
    "# import cython\n",
    "# import numpy as np\n",
    "# import itertools\n",
    "# import time\n",
    "# cimport numpy as np\n",
    "# from scipy.special import logsumexp\n",
    "\n",
    "# @cython.boundscheck(False)\n",
    "# @cython.wraparound(False)\n",
    "# @cython.cdivision(True)\n",
    "# def topic_assign(long[:] b, long[:] all_docs_words_vec, long[:] cum_doc_lengths, double[:,:] phi, double[:,:] theta, long num_obs, long num_topics, long num_blocks): \n",
    "#     cdef long n_ind, w_index, w_indicator\n",
    "#     cdef long start_word_ind = 0\n",
    "#     cdef long end_word_ind = 0\n",
    "#     cdef long[:] z_vec = np.zeros(cum_doc_lengths[len(cum_doc_lengths)-1], dtype=np.int64)\n",
    "#     cdef double[:] log_q_kwn_w = np.zeros(num_topics)\n",
    "#     cdef double[:] exp_log_p_kwn_w = np.zeros(num_topics)\n",
    "#     for n_ind in range(num_obs):\n",
    "#         if n_ind > 0: \n",
    "#             start_word_ind = cum_doc_lengths[n_ind-1]\n",
    "#         end_word_ind = cum_doc_lengths[n_ind]  \n",
    "#         for w_index in range(start_word_ind,end_word_ind):\n",
    "#             w_indicator = all_docs_words_vec[w_index]\n",
    "#             log_q_kwn_w = np.log(phi[:,w_indicator]) + np.log(theta[b[n_ind], :])\n",
    "#             exp_log_p_kwn_w = np.exp(log_q_kwn_w - logsumexp(log_q_kwn_w))\n",
    "#             z_vec[w_index] = np.random.multinomial(1,exp_log_p_kwn_w).argmax().astype(int) #alias_draw(J, q)\n",
    "#     return z_vec\n",
    "\n",
    "# def reconstruct_docs(cum_doc_lengths, z, topic_assignments, num_obs):\n",
    "#         start_word_ind = 0\n",
    "#         for n_ind in range(num_obs):\n",
    "#             if n_ind > 0: \n",
    "#                 start_word_ind = cum_doc_lengths[n_ind-1]\n",
    "#             end_word_ind = cum_doc_lengths[n_ind]  \n",
    "#             z[n_ind] = np.asarray(topic_assignments[start_word_ind:end_word_ind])\n",
    "#         return z\n",
    "    \n",
    "# def z_given_b_x_phi_theta_cython(b, x, z, phi, theta, num_obs, num_topics, num_blocks):\n",
    "#     cum_doc_lengths = np.cumsum(list(map(len,x)), dtype=np.int64)\n",
    "#     all_docs_words_vec = np.array(list(itertools.chain(*x)), dtype=np.int64)\n",
    "#     topic_assignments = topic_assign(b, all_docs_words_vec, \n",
    "#                                      cum_doc_lengths, phi,\n",
    "#                                      theta, num_obs, num_topics, num_blocks)\n",
    "#     z = reconstruct_docs(cum_doc_lengths, z, topic_assignments, num_obs)\n",
    "#     return z"
   ]
  },
  {
   "cell_type": "code",
   "execution_count": null,
   "metadata": {
    "collapsed": true
   },
   "outputs": [],
   "source": [
    "# %%cython --annotate\n",
    "\n",
    "# import cython\n",
    "# import numpy as np\n",
    "# import time\n",
    "# cimport numpy as np\n",
    "# #from scipy.special import logsumexp\n",
    "\n",
    "# @cython.boundscheck(False)\n",
    "# @cython.wraparound(False)\n",
    "# @cython.cdivision(True)\n",
    "# def sample_mult_prob_matrix_cython(double[:,:] prob_wk_subset, long[:] word_topic_assign):\n",
    "#     cdef long W = prob_wk_subset.shape[0]\n",
    "#     #cdef long[:] word_topic_assign = np.zeros(W, dtype=np.int64)\n",
    "#     cdef long w \n",
    "#     for w in range(W):\n",
    "#         word_topic_assign[w] = np.random.multinomial(1, prob_wk_subset[w,:]).argmax()\n",
    "#     return word_topic_assign"
   ]
  },
  {
   "cell_type": "code",
   "execution_count": null,
   "metadata": {
    "collapsed": true
   },
   "outputs": [],
   "source": [
    "# Create sample multinomial function with a generator:\n",
    "def sample_mult_prob_matrix_gen(prob_wk_subset, word_topic_assign):\n",
    "    W = prob_wk_subset.shape[0]\n",
    "    word_topic_assign = (np.random.multinomial(1, prob_wk_subset[w,:]).argmax() for w in range(W))\n",
    "    return word_topic_assign"
   ]
  },
  {
   "cell_type": "code",
   "execution_count": null,
   "metadata": {
    "collapsed": false
   },
   "outputs": [],
   "source": [
    "# Create function to sample b given y, z, pi, and theta:\n",
    "def b_given_y_z_pi_theta_help(y, z, pi, theta, num_blocks):\n",
    "    theta_bz = theta[:,z].prod(axis=1)\n",
    "    if len(y) < 0:\n",
    "        pi_by = np.repeat(1, num_blocks)\n",
    "    else:\n",
    "        pi_by = pi[:,[y]].prod(axis=1) \n",
    "    p_un_b = \n",
    "    p_un_b = p_un_b / np.sum(p_un_b)\n",
    "    #return np.random.multinomial(1,p_un_b).argmax()\n",
    "b_given_y_z_pi_theta_help(y_ln[50], z_wn[50], pi_bl, theta_bk)\n",
    "#pi_bl[:,y_ln[1]].shape\n",
    "#y_ln[50]"
   ]
  },
  {
   "cell_type": "markdown",
   "metadata": {},
   "source": [
    "##### Junk code for experimenting:"
   ]
  },
  {
   "cell_type": "code",
   "execution_count": null,
   "metadata": {
    "collapsed": false
   },
   "outputs": [],
   "source": [
    "# Collect vocabulary of words and set of linked domains:\n",
    "vocab = dict(zip(set([word for doc in docs_words for word in doc]),np.arange(len(set([word for doc in docs_words for word in doc])))))\n",
    "linked_domains = dict(zip(set([link for doc in docs_links for link in doc if link != 'nan']),np.arange(len(set([link for doc in docs_links for link in doc if link != 'nan'])))))\n",
    "\n",
    "# Note number of observations, size of vocabulary, number of linked domains:\n",
    "num_obs = len(docs_words)\n",
    "vocab_size = len(vocab)\n",
    "num_linked_domains = len(linked_domains)\n",
    "\n",
    "# Change docs_words and docs_links to numeric X and Y and calculate helper quantities for vectorizing:\n",
    "x_wn = np.array(list(map(lambda mykeys: np.array([vocab[x] for x in mykeys]), docs_words)))\n",
    "y_ln = np.array(list(map(lambda mykeys: np.array([linked_domains[y] for y in mykeys if y != 'nan']), docs_links)))\n",
    "all_words = np.array([word for doc in x_wn for word in doc])\n",
    "word_doc_assigns = np.array([word for doc in [np.repeat(i, len(docs_words[i])) for i in range(len(docs_words))] for word in doc])\n",
    "word_topic_assigns = np.array([0 for doc in x_wn for word in doc])\n",
    "cum_doc_lengths = np.cumsum(list(map(len,x_wn)))\n",
    "total_num_words = len([word for doc in x_wn for word in doc])\n",
    "total_num_links = len([link for doc in y_ln for link in doc])\n",
    "\n",
    "# Initialize arrays of all zeros to store posterior samples:\n",
    "b_ns = np.zeros((num_obs, (num_samps - num_burn))) # matrix of block assignments for each observation in each iteration\n",
    "z_wn_last = np.array([np.zeros(len(n)) for n in x_wn]) # a list of 1d arrays to indicate the currect topic assignment for each word of each observation\n",
    "phi_vks = np.zeros((vocab_size, num_topics, (num_samps - num_burn))) # array for probs for each word in each topic on each iteration\n",
    "pi_bls = np.zeros((num_blocks, num_linked_domains, (num_samps - num_burn))) # array for probs for each link in each block on each iteration\n",
    "theta_bks = np.zeros((num_blocks, num_topics, (num_samps - num_burn))) # array for probs for each topic in each block on each iteration    \n",
    "\n",
    "# Randomly simulate initial values from flat priors and flat (augmented) likelihoods:\n",
    "#b_n = np.random.choice(np.arange(num_blocks), size = num_obs, p = np.repeat(1.0/num_blocks, num_blocks))\n",
    "b_n = init_block_assigns(num_obs, num_blocks) # Currently blocks are initialized so that each occurs homogenously\n",
    "z_wn = np.array(list(map(lambda doc: np.random.choice(np.arange(num_topics), size = len(doc), p = np.repeat(1.0/num_topics, num_topics)), x_wn)))\n",
    "phi_vk = np.transpose(np.random.dirichlet(np.repeat(beta,vocab_size), size = num_topics))\n",
    "pi_bl = np.random.dirichlet(np.repeat(gamma,num_linked_domains), size = num_blocks)\n",
    "theta_bk = np.random.dirichlet(np.repeat(alpha,num_topics), size = num_blocks)\n",
    "\n",
    "#t0 = time.time()\n",
    "        #z_wn = z_given_b_x_phi_theta(b_n, x_wn, z_wn, phi_vk, theta_bk, num_obs, num_topics, num_blocks)\n",
    "        #print(\"time per iteration for double loop through numpy array of numpy arrays:\")\n",
    "        #print(time.time() - t0)\n",
    "        \n",
    "#t0 = time.time()\n",
    "start_samp_z = time.time()\n",
    "z_wn = z_given_b_x_phi_theta_vec(all_words, word_topic_assigns, word_doc_assigns, cum_doc_lengths, b_n, z_wn, phi_vk, theta_bk, num_obs, num_topics, num_blocks, num_cores)\n",
    "print(\"samp z time:\")\n",
    "print(time.time()-start_samp_z)\n",
    "#print(\"time per iteration for double loop through numpy array of numpy arrays:\")\n",
    "#print(time.time() - t0)\n",
    "\n",
    "start_find_counts = time.time()\n",
    "c_vk, c_bl, c_bk = find_counts(b_n, x_wn, y_ln, z_wn, num_obs, num_topics, num_blocks, num_linked_domains, vocab_size)\n",
    "print(\"find counts time:\")\n",
    "print(time.time()-start_find_counts)\n",
    "\n",
    "start_phi = time.time()\n",
    "phi_vk = phi_given_c_x_z(c_vk, x_wn, z_wn, phi_vk, beta, vocab_size, num_topics)\n",
    "print(\"phi time:\")\n",
    "print(time.time()-start_phi)\n",
    "\n",
    "start_pi = time.time()\n",
    "pi_bl = pi_given_b_c_y(b_n, c_bl, y_ln, pi_bl, gamma, num_blocks, num_linked_domains)\n",
    "print(\"pi time:\")\n",
    "print(time.time()-start_pi)\n",
    "\n",
    "start_theta = time.time()\n",
    "theta_bk = theta_given_b_c_z(b_n, c_bk, z_wn, theta_bk, alpha, num_blocks, num_topics)\n",
    "print(\"theta time:\")\n",
    "print(time.time()-start_theta)\n",
    "\n",
    "#start_b = time.time()\n",
    "#b_n = b_given_y_z_pi_theta_fast(b_n, y_ln, z_wn, pi_bl, theta_bk, num_obs, num_blocks)\n",
    "#print(\"b time:\")\n",
    "#print(time.time()-start_b)\n",
    "\n",
    "    \n",
    "start_pool = time.time()\n",
    "pool = mp.Pool(num_cores)\n",
    "print(\"pool time:\")\n",
    "print(time.time()-start_pool)\n",
    "indices = np.arange(num_obs)\n",
    "start_partition = time.time()\n",
    "partition_indices = np.array_split(indices, indices.shape[0]//(indices.shape[0]//num_cores))\n",
    "print(\"partition time:\")\n",
    "print(time.time()-start_partition)\n",
    "#result_arrays = pool.map(sample_mult_prob_matrix_cython, (prob_wk[partition_indices[i], :] for i in range(num_cores)))\n",
    "start_map_sample = time.time()\n",
    "result_arrays = pool.starmap(partial(b_given_y_z_pi_theta_help, pi = pi_bl, theta = theta_bk, num_blocks = num_blocks), zip(y_ln, z_wn))\n",
    "#result_arrays = pool.starmap(b_given_y_z_pi_theta_help(b, y, z, pi, theta, num_obs, num_blocks)\n",
    "#, (b[partition_indices[i]], y[partition_indices] for i in range(num_cores)))\n",
    "print(\"map sample time:\")\n",
    "print(time.time()-start_map_sample)\n",
    "#result_arrays = list(map(sample_mult_prob_matrix_cython, (prob_wk[partition_indices[i], :] for i in range(num_cores))))\n",
    "start_concat = time.time()\n",
    "block_assigns = np.concatenate(result_arrays).ravel()\n",
    "print(\"concat time:\")\n",
    "print(time.time()-start_concat)"
   ]
  }
 ],
 "metadata": {
  "anaconda-cloud": {},
  "kernelspec": {
   "display_name": "Python [default]",
   "language": "python",
   "name": "python3"
  },
  "language_info": {
   "codemirror_mode": {
    "name": "ipython",
    "version": 3
   },
   "file_extension": ".py",
   "mimetype": "text/x-python",
   "name": "python",
   "nbconvert_exporter": "python",
   "pygments_lexer": "ipython3",
   "version": "3.5.2"
  }
 },
 "nbformat": 4,
 "nbformat_minor": 2
}
